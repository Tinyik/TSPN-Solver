{
 "cells": [
  {
   "cell_type": "code",
   "execution_count": 46,
   "metadata": {},
   "outputs": [],
   "source": [
    "import os\n",
    "import numpy as np\n",
    "import scipy.sparse.csgraph\n",
    "import networkx as nx\n",
    "from SetCoverPy import *\n",
    "from pytsp import atsp_tsp, run, dumps_matrix\n",
    "from functools import reduce\n",
    "import numpy as np\n",
    "import scipy.sparse.csgraph\n",
    "import signal\n",
    "from main import *"
   ]
  },
  {
   "cell_type": "code",
   "execution_count": 35,
   "metadata": {},
   "outputs": [],
   "source": [
    "INPUT_DIR = './inputs'\n",
    "input0 = os.path.join(INPUT_DIR, '52.in')"
   ]
  },
  {
   "cell_type": "code",
   "execution_count": 36,
   "metadata": {},
   "outputs": [],
   "source": [
    "def read_file(file):\n",
    "    with open(file, 'r') as f:\n",
    "        data = f.readlines()\n",
    "    data = [line.strip().split() for line in data]\n",
    "    return data\n",
    "\n",
    "def data_parser(input_data):\n",
    "    number_of_kingdoms = int(input_data[0][0])\n",
    "    list_of_kingdom_names = input_data[1]\n",
    "    starting_kingdom = input_data[2][0]\n",
    "    adjacency_matrix = [[entry if entry == 'x' else float(entry) for entry in row] for row in input_data[3:]]\n",
    "    return number_of_kingdoms, list_of_kingdom_names, starting_kingdom, adjacency_matrix"
   ]
  },
  {
   "cell_type": "code",
   "execution_count": 37,
   "metadata": {},
   "outputs": [],
   "source": [
    "def matrix(input_file):\n",
    "    adj = np.genfromtxt(input_file, dtype=float, skip_header=3)\n",
    "    size = len(adj)\n",
    "    for i in range(size):\n",
    "        for j in range(size):\n",
    "            if np.isnan(adj[i][j]):\n",
    "                adj[i][j] = 0\n",
    "    return adj\n",
    "\n",
    "def preprocess(input_file):\n",
    "    data = read_file(input_file)\n",
    "    number_of_kingdoms, list_of_kingdom_names, starting_kingdom, adjacency_matrix = data_parser(data)\n",
    "    adjacency_matrix = matrix(input_file)\n",
    "    return number_of_kingdoms, list_of_kingdom_names, starting_kingdom, adjacency_matrix\n",
    "\n",
    "number_of_kingdoms, list_of_kingdom_names, starting_kingdom, adjacency_matrix = preprocess(input0)"
   ]
  },
  {
   "cell_type": "code",
   "execution_count": 38,
   "metadata": {},
   "outputs": [],
   "source": [
    "g = matrix(input0)\n",
    "gnx =nx.from_numpy_matrix(g)\n",
    "paths = list(nx.all_pairs_dijkstra_path(gnx))\n",
    "recon = []\n",
    "for p in paths:\n",
    "    a = []\n",
    "    for i in range(number_of_kingdoms):\n",
    "        a.append(p[1][i])\n",
    "    recon.append(a)\n",
    "shortest_dist, predecessor= scipy.sparse.csgraph.floyd_warshall(g, return_predecessors = True)"
   ]
  },
  {
   "cell_type": "code",
   "execution_count": 31,
   "metadata": {},
   "outputs": [],
   "source": [
    "# recon = []\n",
    "# for i in range(g.shape[0]):\n",
    "#     row = []\n",
    "#     for j in range(g.shape[1]):\n",
    "#         if i == j:\n",
    "#             row.append(0)\n",
    "#         else:\n",
    "#             path = [j]\n",
    "#             k = j\n",
    "#             while predecessor[i][k] != i:\n",
    "#                 path.append(predecessor[i][j])\n",
    "#                 k = preprocess[i][j]\n",
    "#             predecessor[i][j]\n",
    "            \n",
    "#             row.append(path)\n",
    "#     recon.append(row)"
   ]
  },
  {
   "cell_type": "code",
   "execution_count": 32,
   "metadata": {},
   "outputs": [
    {
     "data": {
      "text/plain": [
       "[6, 7, 8, 9]"
      ]
     },
     "execution_count": 32,
     "metadata": {},
     "output_type": "execute_result"
    }
   ],
   "source": [
    "recon[6][9]"
   ]
  },
  {
   "cell_type": "code",
   "execution_count": 69,
   "metadata": {},
   "outputs": [
    {
     "data": {
      "text/plain": [
       "array([[ 0.,  0.,  2.,  0.,  0.,  0.,  0.,  0.,  0.,  0.,  0.,  0.,  0.,\n",
       "         0.],\n",
       "       [ 0.,  0.,  3.,  0.,  0.,  0.,  0.,  0.,  0.,  0.,  0.,  0.,  0.,\n",
       "         0.],\n",
       "       [ 2.,  3.,  0.,  3.,  0.,  2.,  0.,  0.,  0.,  0.,  0.,  0.,  0.,\n",
       "         0.],\n",
       "       [ 0.,  0.,  3.,  0.,  0.,  0.,  0.,  0.,  0.,  0.,  0.,  0.,  0.,\n",
       "         0.],\n",
       "       [ 0.,  0.,  0.,  0.,  0.,  1.,  0.,  0.,  0.,  0.,  0.,  0.,  0.,\n",
       "         0.],\n",
       "       [ 0.,  0.,  2.,  0.,  1.,  0.,  1.,  0.,  2.,  0.,  0.,  0.,  0.,\n",
       "         0.],\n",
       "       [ 0.,  0.,  0.,  0.,  0.,  1.,  0.,  0.,  0.,  0.,  0.,  0.,  0.,\n",
       "         0.],\n",
       "       [ 0.,  0.,  0.,  0.,  0.,  0.,  0.,  0., 10.,  0.,  0.,  0.,  0.,\n",
       "         0.],\n",
       "       [ 0.,  0.,  0.,  0.,  0.,  2.,  0., 10.,  0., 10.,  0.,  2.,  0.,\n",
       "         0.],\n",
       "       [ 0.,  0.,  0.,  0.,  0.,  0.,  0.,  0., 10.,  0.,  0.,  0.,  0.,\n",
       "         0.],\n",
       "       [ 0.,  0.,  0.,  0.,  0.,  0.,  0.,  0.,  0.,  0.,  0.,  3.,  0.,\n",
       "         0.],\n",
       "       [ 0.,  0.,  0.,  0.,  0.,  0.,  0.,  0.,  2.,  0.,  3.,  0.,  3.,\n",
       "         2.],\n",
       "       [ 0.,  0.,  0.,  0.,  0.,  0.,  0.,  0.,  0.,  0.,  0.,  3.,  0.,\n",
       "         0.],\n",
       "       [ 0.,  0.,  0.,  0.,  0.,  0.,  0.,  0.,  0.,  0.,  0.,  2.,  0.,\n",
       "         0.]])"
      ]
     },
     "execution_count": 69,
     "metadata": {},
     "output_type": "execute_result"
    }
   ],
   "source": [
    "complete_g = np.zeros_like(g)\n",
    "for i in range(g.shape[0]):\n",
    "    for j in range(g.shape[1]):\n",
    "        if g[i,j] == np.inf:\n",
    "            complete_g[i,j] = shortest_dist[i,j]\n",
    "        else:\n",
    "            complete_g[i,j] = g[i,j]\n",
    "for kk in range(complete_g.shape[0]):\n",
    "    complete_g[kk, kk]=0 \n",
    "complete_g"
   ]
  },
  {
   "cell_type": "code",
   "execution_count": 72,
   "metadata": {},
   "outputs": [
    {
     "data": {
      "text/plain": [
       "array([[1, 0, 1, 0, 0, 0, 0, 0, 0, 0, 0, 0, 0, 0],\n",
       "       [0, 1, 1, 0, 0, 0, 0, 0, 0, 0, 0, 0, 0, 0],\n",
       "       [1, 1, 1, 1, 0, 1, 0, 0, 0, 0, 0, 0, 0, 0],\n",
       "       [0, 0, 1, 1, 0, 0, 0, 0, 0, 0, 0, 0, 0, 0],\n",
       "       [0, 0, 0, 0, 1, 1, 0, 0, 0, 0, 0, 0, 0, 0],\n",
       "       [0, 0, 1, 0, 1, 1, 1, 0, 1, 0, 0, 0, 0, 0],\n",
       "       [0, 0, 0, 0, 0, 1, 1, 0, 0, 0, 0, 0, 0, 0],\n",
       "       [0, 0, 0, 0, 0, 0, 0, 1, 1, 0, 0, 0, 0, 0],\n",
       "       [0, 0, 0, 0, 0, 1, 0, 1, 1, 1, 0, 1, 0, 0],\n",
       "       [0, 0, 0, 0, 0, 0, 0, 0, 1, 1, 0, 0, 0, 0],\n",
       "       [0, 0, 0, 0, 0, 0, 0, 0, 0, 0, 1, 1, 0, 0],\n",
       "       [0, 0, 0, 0, 0, 0, 0, 0, 1, 0, 1, 1, 1, 1],\n",
       "       [0, 0, 0, 0, 0, 0, 0, 0, 0, 0, 0, 1, 1, 0],\n",
       "       [0, 0, 0, 0, 0, 0, 0, 0, 0, 0, 0, 1, 0, 1]])"
      ]
     },
     "execution_count": 72,
     "metadata": {},
     "output_type": "execute_result"
    }
   ],
   "source": [
    "#Set Cover\n",
    "binarize = lambda x : int(x != 0)\n",
    "binarize = np.vectorize(binarize)\n",
    "binary = binarize(g)\n",
    "for i in range(number_of_kingdoms):\n",
    "    binary[i][i] = 1\n",
    "binary"
   ]
  },
  {
   "cell_type": "code",
   "execution_count": 10,
   "metadata": {},
   "outputs": [],
   "source": [
    "cost = np.diag(g)\n",
    "cost = cost/ np.median(cost)"
   ]
  },
  {
   "cell_type": "code",
   "execution_count": 74,
   "metadata": {},
   "outputs": [
    {
     "name": "stdout",
     "output_type": "stream",
     "text": [
      "This Best solution: UB=14.5, LB=14.499999999069434, UB1=14.5, LB1=14.499999999069434\n",
      "Current Best Solution: UB=14.5, LB=14.499999999069434, change=6.4176954938061656e-09% @ niters=0\n",
      "Current Best Solution: UB=14.5, LB=14.499999999069434, change=6.4176954938061656e-09% @ niters=1\n",
      "Final Best solution: 14.5\n",
      "Took 0.004 minutes to reach current solution.\n"
     ]
    },
    {
     "data": {
      "text/plain": [
       "array([ True,  True, False,  True, False,  True, False,  True, False,\n",
       "        True,  True, False,  True,  True])"
      ]
     },
     "execution_count": 74,
     "metadata": {},
     "output_type": "execute_result"
    }
   ],
   "source": [
    "from SetCoverPy import *\n",
    "sc = setcover.SetCover(binary, cost)\n",
    "solution, time_used = sc.SolveSCP()\n",
    "sc.s"
   ]
  },
  {
   "cell_type": "code",
   "execution_count": 29,
   "metadata": {
    "collapsed": true
   },
   "outputs": [],
   "source": [
    "# from ortools.constraint_solver import pywrapcp\n",
    "# from ortools.constraint_solver import routing_enums_pb2\n",
    "\n",
    "# class CreateDistanceCallback(object):\n",
    "#     \"\"\"Create callback to calculate distances between points.\"\"\"\n",
    "#     def __init__(self, adjacency_matrix):\n",
    "#         \"\"\"Array of distances between points.\"\"\"\n",
    "\n",
    "#         self.matrix = adjacency_matrix\n",
    "\n",
    "#     def Distance(self, from_node, to_node):\n",
    "#         return int(self.matrix[from_node][to_node])\n",
    "\n",
    "# def solve(list_of_kingdom_names, starting_kingdom, adjacency_matrix, params=[]):\n",
    "# #     city_names = [\"New York\", \"Los Angeles\", \"Chicago\", \"Minneapolis\", \"Denver\", \"Dallas\", \"Seattle\",\n",
    "# #                 \"Boston\", \"San Francisco\", \"St. Louis\", \"Houston\", \"Phoenix\", \"Salt Lake City\"]\n",
    "#     tsp_size = len(list_of_kingdom_names)\n",
    "#     num_routes = 1    # The number of routes, which is 1 in the TSP.\n",
    "#     # Nodes are indexed from 0 to tsp_size - 1. The depot is the starting node of the route.\n",
    "#     depot = list_of_kingdom_names.index(starting_kingdom)\n",
    "\n",
    "#     # Create routing model\n",
    "#     if tsp_size > 0:\n",
    "#         routing = pywrapcp.RoutingModel(tsp_size, num_routes, depot)\n",
    "#         search_parameters = pywrapcp.RoutingModel.DefaultModelParameters()\n",
    "\n",
    "#         # Create the distance callback, which takes two arguments (the from and to node indices)\n",
    "#         # and returns the distance between these nodes.\n",
    "#         dist_between_nodes = CreateDistanceCallback(adjacency_matrix)\n",
    "#         dist_callback = dist_between_nodes.Distance\n",
    "#         routing.SetArcCostEvaluatorOfAllVehicles(dist_callback)\n",
    "#         # Solve, returns a solution if any.\n",
    "#         assignment = routing.SolveWithParameters(search_parameters)\n",
    "#         if assignment:\n",
    "#             # Solution cost.\n",
    "#             print(\"Total distance: \" + str(assignment.ObjectiveValue()) + \" miles\\n\")\n",
    "#             # Inspect solution.\n",
    "#             # Only one route here; otherwise iterate from 0 to routing.vehicles() - 1\n",
    "#             route_number = 0\n",
    "#             index = routing.Start(route_number) # Index of the variable for the starting node.\n",
    "#             route = ''\n",
    "#             while not routing.IsEnd(index):\n",
    "#                 # Convert variable indices to node indices in the displayed route.\n",
    "#                 route += str(city_names[routing.IndexToNode(index)]) + ' -> '\n",
    "#                 index = assignment.Value(routing.NextVar(index))\n",
    "#             route += str(city_names[routing.IndexToNode(index)])\n",
    "#             print(\"Route:\\n\\n\" + route)\n",
    "#         else:\n",
    "#             print('No solution found.')\n",
    "#     else:\n",
    "#         print('Specify an instance greater than 0.')"
   ]
  },
  {
   "cell_type": "code",
   "execution_count": 75,
   "metadata": {},
   "outputs": [
    {
     "name": "stdout",
     "output_type": "stream",
     "text": [
      "['Hera', 'Aether', 'Chaos', 'Aphrodite', 'Gaia', 'Eros', 'Pontus', 'Hypnos', 'Hestia']\n",
      "[0, 1, 3, 5, 7, 9, 10, 12, 13]\n"
     ]
    }
   ],
   "source": [
    "contries_to_visit = []\n",
    "contries_idx = []\n",
    "for i,c in enumerate(list_of_kingdom_names):\n",
    "    if sc.s[i]:\n",
    "        contries_to_visit.append(c)\n",
    "        contries_idx.append(i)\n",
    "print(contries_to_visit)\n",
    "print(contries_idx)"
   ]
  },
  {
   "cell_type": "code",
   "execution_count": 76,
   "metadata": {
    "collapsed": true
   },
   "outputs": [],
   "source": [
    "truncated_g = shortest_dist[contries_idx][:, contries_idx]"
   ]
  },
  {
   "cell_type": "code",
   "execution_count": 88,
   "metadata": {},
   "outputs": [],
   "source": [
    "from pytsp import atsp_tsp, run, dumps_matrix\n",
    "\n",
    "matrix_sym = atsp_tsp(truncated_g, strategy=\"avg\")\n",
    "outf = \"/tmp/myroute.tsp\"\n",
    "with open(outf, 'w') as dest:\n",
    "    dest.write(dumps_matrix(matrix_sym, name=\"My Route\"))\n",
    "tour = run(outf, start=list_of_kingdom_names.index(starting_kingdom), solver=\"LKH\")\n",
    "complete_visits = [contries_idx[i] for i in tour['tour']]\n",
    "complete_visits += [complete_visits[0]]"
   ]
  },
  {
   "cell_type": "code",
   "execution_count": 40,
   "metadata": {},
   "outputs": [
    {
     "name": "stdout",
     "output_type": "stream",
     "text": [
      "This Best solution: UB=43.0, LB=-107.8505373666372, UB1=43.0, LB1=-107.8505373666372\n",
      "Current Best Solution: UB=43.0, LB=-107.8505373666372, change=350.815203178226% @ niters=0\n",
      "This Best solution: UB=40.0, LB=23.19974599346386, UB1=40.0, LB1=23.19974599346386\n",
      "Current Best Solution: UB=39.01, LB=23.35464387579549, change=40.131648613700364% @ niters=5\n",
      "This Best solution: UB=46.0, LB=-1161.80034583144, UB1=46.0, LB1=-1161.80034583144\n",
      "Current Best Solution: UB=39.01, LB=23.35464387579549, change=40.131648613700364% @ niters=10\n",
      "This Best solution: UB=40.0, LB=18.91760662913403, UB1=40.0, LB1=18.91760662913403\n",
      "Current Best Solution: UB=39.01, LB=23.35464387579549, change=40.131648613700364% @ niters=15\n",
      "Iteration in re-initialization reaches maximum number = 20\n",
      "Current Best Solution: UB=39.01, LB=23.35464387579549, change=40.131648613700364% @ niters=20\n",
      "Final Best solution: 39.01\n",
      "Took 0.227 minutes to reach current solution.\n"
     ]
    }
   ],
   "source": [
    "gnx =nx.from_numpy_matrix(g)\n",
    "paths = list(nx.all_pairs_dijkstra_path(gnx))\n",
    "recon = []\n",
    "for p in paths:\n",
    "    a = []\n",
    "    for i in range(number_of_kingdoms):\n",
    "        a.append(p[1][i])\n",
    "    recon.append(a)\n",
    "shortest_dist= scipy.sparse.csgraph.floyd_warshall(g)\n",
    "\n",
    "complete_g = np.zeros_like(g)\n",
    "for i in range(g.shape[0]):\n",
    "    for j in range(g.shape[1]):\n",
    "        if g[i,j] == np.inf:\n",
    "            complete_g[i,j] = shortest_dist[i,j]\n",
    "        else:\n",
    "            complete_g[i,j] = g[i,j]\n",
    "for kk in range(complete_g.shape[0]):\n",
    "    complete_g[kk, kk]=0\n",
    "\n",
    "#setcover\n",
    "binarize = lambda x : int(x != 0)\n",
    "binarize = np.vectorize(binarize)\n",
    "binary = binarize(g)\n",
    "for i in range(number_of_kingdoms):\n",
    "    binary[i][i] = 1\n",
    "\n",
    "cost = np.diag(g)\n",
    "cost = cost/ np.median(cost)\n",
    "\n",
    "\n",
    "sc = setcover.SetCover(binary, cost)\n",
    "solution, time_used = sc.SolveSCP()\n",
    "\n",
    "countries_to_visit = []\n",
    "countries_idx = []\n",
    "starting_index = list_of_kingdom_names.index(starting_kingdom)\n",
    "cy = False\n",
    "for i,c in enumerate(list_of_kingdom_names):\n",
    "    if sc.s[i]:\n",
    "        countries_to_visit.append(c)\n",
    "        countries_idx.append(i)\n",
    "        if starting_index == i:\n",
    "            cy = True"
   ]
  },
  {
   "cell_type": "code",
   "execution_count": 42,
   "metadata": {},
   "outputs": [
    {
     "data": {
      "text/plain": [
       "['3',\n",
       " '7',\n",
       " '8',\n",
       " '11',\n",
       " '13',\n",
       " '16',\n",
       " '18',\n",
       " '21',\n",
       " '22',\n",
       " '25',\n",
       " '28',\n",
       " '31',\n",
       " '34',\n",
       " '35',\n",
       " '38',\n",
       " '39',\n",
       " '42',\n",
       " '44',\n",
       " '47',\n",
       " '49',\n",
       " '52',\n",
       " '55',\n",
       " '58',\n",
       " '60',\n",
       " '63',\n",
       " '66',\n",
       " '69',\n",
       " '72',\n",
       " '75',\n",
       " '78',\n",
       " '81',\n",
       " '84',\n",
       " '87',\n",
       " '88',\n",
       " '91',\n",
       " '94',\n",
       " '97',\n",
       " 'Ced',\n",
       " 'Ian']"
      ]
     },
     "execution_count": 42,
     "metadata": {},
     "output_type": "execute_result"
    }
   ],
   "source": [
    "countries_to_visit"
   ]
  },
  {
   "cell_type": "code",
   "execution_count": 54,
   "metadata": {},
   "outputs": [
    {
     "name": "stdout",
     "output_type": "stream",
     "text": [
      "{'tour': [0, 1, 2, 3, 4, 5, 32, 33, 34, 38, 37, 36, 35, 31, 30, 29, 28, 27, 26, 25, 24, 23, 22, 21, 20, 19, 18, 17, 16, 15, 14, 13, 12, 11, 10, 9, 8, 7, 6], 'solution': 196, 'metadata': 'NAME : My.196.tour\\nCOMMENT : Length = 196\\nCOMMENT : Found by LKH [Keld Helsgaun] Tue May  1 04:12:51 2018\\nTYPE : TOUR\\nDIMENSION : 39\\n'}\n"
     ]
    }
   ],
   "source": [
    "truncated_g = shortest_dist[countries_idx][:, countries_idx]\n",
    "if cy:\n",
    "    tr_starting_index = countries_idx.index(starting_index)\n",
    "#     for i in range(truncated_g.shape[0]):\n",
    "#         if truncated_g[i][0] == starting_index:\n",
    "#             tr_starting_index = i\n",
    "    #print(len(countries_to_visit),'!!')\n",
    "    matrix_sym = atsp_tsp(truncated_g, strategy=\"avg\")\n",
    "    outf = \"/tmp/myroute.tsp\"\n",
    "    with open(outf, 'w') as dest:\n",
    "        dest.write(dumps_matrix(matrix_sym, name=\"My Route\"))\n",
    "    tour = run(outf, start=tr_starting_index, solver=\"LKH\")\n",
    "    complete_visits = [countries_idx[i] for i in tour['tour']]\n",
    "else:\n",
    "    arr = [shortest_dist[starting_index][i] for i in countries_idx]\n",
    "    nearest_o = arr.index(min(arr))\n",
    "#     nearest_n = 0\n",
    "#     for i in range(truncated_g.shape[0]):\n",
    "#         if truncated_g[i][0] == nearest_o:\n",
    "#             nearest_n = i\n",
    "    matrix_sym = atsp_tsp(truncated_g, strategy=\"avg\")\n",
    "    outf = \"/tmp/myroute.tsp\"\n",
    "    with open(outf, 'w') as dest:\n",
    "        dest.write(dumps_matrix(matrix_sym, name=\"My Route\"))\n",
    "    tour = run(outf, start=nearest_o, solver=\"LKH\")\n",
    "    print(tour)\n",
    "    complete_visits = [starting_index] + [countries_idx[i] for i in tour['tour']]"
   ]
  },
  {
   "cell_type": "code",
   "execution_count": 55,
   "metadata": {},
   "outputs": [
    {
     "data": {
      "text/plain": [
       "[2,\n",
       " 6,\n",
       " 7,\n",
       " 10,\n",
       " 12,\n",
       " 15,\n",
       " 86,\n",
       " 87,\n",
       " 90,\n",
       " 101,\n",
       " 100,\n",
       " 96,\n",
       " 93,\n",
       " 83,\n",
       " 80,\n",
       " 77,\n",
       " 74,\n",
       " 71,\n",
       " 68,\n",
       " 65,\n",
       " 62,\n",
       " 59,\n",
       " 57,\n",
       " 54,\n",
       " 51,\n",
       " 48,\n",
       " 46,\n",
       " 43,\n",
       " 41,\n",
       " 38,\n",
       " 37,\n",
       " 34,\n",
       " 33,\n",
       " 30,\n",
       " 27,\n",
       " 24,\n",
       " 21,\n",
       " 20,\n",
       " 17]"
      ]
     },
     "execution_count": 55,
     "metadata": {},
     "output_type": "execute_result"
    }
   ],
   "source": [
    "[countries_idx[i] for i in tour['tour']]"
   ]
  },
  {
   "cell_type": "code",
   "execution_count": 33,
   "metadata": {},
   "outputs": [],
   "source": []
  },
  {
   "cell_type": "code",
   "execution_count": null,
   "metadata": {
    "collapsed": true
   },
   "outputs": [],
   "source": []
  }
 ],
 "metadata": {
  "kernelspec": {
   "display_name": "Python 3",
   "language": "python",
   "name": "python3"
  },
  "language_info": {
   "codemirror_mode": {
    "name": "ipython",
    "version": 3
   },
   "file_extension": ".py",
   "mimetype": "text/x-python",
   "name": "python",
   "nbconvert_exporter": "python",
   "pygments_lexer": "ipython3",
   "version": "3.6.5"
  }
 },
 "nbformat": 4,
 "nbformat_minor": 2
}
