{
 "cells": [
  {
   "cell_type": "code",
   "execution_count": 5,
   "metadata": {},
   "outputs": [],
   "source": [
    "import sys\n",
    "import math\n",
    "import random\n",
    "import itertools\n",
    "import os\n",
    "import numpy as np\n",
    "import scipy.sparse.csgraph\n",
    "import networkx as nx\n",
    "from SetCoverPy import *\n",
    "from gurobipy import *"
   ]
  },
  {
   "cell_type": "code",
   "execution_count": 6,
   "metadata": {},
   "outputs": [],
   "source": [
    "INPUT_DIR = './inputs'\n",
    "input0 = os.path.join(INPUT_DIR, '52.in')"
   ]
  },
  {
   "cell_type": "code",
   "execution_count": 7,
   "metadata": {},
   "outputs": [],
   "source": [
    "def read_file(file):\n",
    "    with open(file, 'r') as f:\n",
    "        data = f.readlines()\n",
    "    data = [line.strip().split() for line in data]\n",
    "    return data\n",
    "\n",
    "def data_parser(input_data):\n",
    "    number_of_kingdoms = int(input_data[0][0])\n",
    "    list_of_kingdom_names = input_data[1]\n",
    "    starting_kingdom = input_data[2][0]\n",
    "    adjacency_matrix = [[entry if entry == 'x' else float(entry) for entry in row] for row in input_data[3:]]\n",
    "    return number_of_kingdoms, list_of_kingdom_names, starting_kingdom, adjacency_matrix"
   ]
  },
  {
   "cell_type": "code",
   "execution_count": 8,
   "metadata": {},
   "outputs": [],
   "source": [
    "def matrix(input_file):\n",
    "    adj = np.genfromtxt(input_file, dtype=float, skip_header=3)\n",
    "    size = len(adj)\n",
    "    for i in range(size):\n",
    "        for j in range(size):\n",
    "            if np.isnan(adj[i][j]):\n",
    "                adj[i][j] = 0\n",
    "    return adj\n",
    "\n",
    "def preprocess(input_file):\n",
    "    data = read_file(input_file)\n",
    "    number_of_kingdoms, list_of_kingdom_names, starting_kingdom, adjacency_matrix = data_parser(data)\n",
    "    adjacency_matrix = matrix(input_file)\n",
    "    return number_of_kingdoms, list_of_kingdom_names, starting_kingdom, adjacency_matrix\n",
    "\n",
    "number_of_kingdoms, list_of_kingdom_names, starting_kingdom, adjacency_matrix = preprocess(input0)"
   ]
  },
  {
   "cell_type": "code",
   "execution_count": 9,
   "metadata": {},
   "outputs": [],
   "source": [
    "g = matrix(input0)\n",
    "gnx =nx.from_numpy_matrix(g)\n",
    "paths = list(nx.all_pairs_dijkstra_path(gnx))\n",
    "recon = []\n",
    "for p in paths:\n",
    "    a = []\n",
    "    for i in range(number_of_kingdoms):\n",
    "        a.append(p[1][i])\n",
    "    recon.append(a)\n",
    "shortest_dist = scipy.sparse.csgraph.floyd_warshall(g)"
   ]
  },
  {
   "cell_type": "code",
   "execution_count": 10,
   "metadata": {},
   "outputs": [
    {
     "data": {
      "text/plain": [
       "array([[  0.  ,  24.1 ,   1.  , ...,  98.  ,  98.95,  98.  ],\n",
       "       [ 24.1 ,   0.  ,  24.1 , ...,  74.1 ,  75.05,  74.1 ],\n",
       "       [  1.  ,  24.1 ,   0.  , ...,  97.  ,  97.95,  97.  ],\n",
       "       ..., \n",
       "       [ 98.  ,  74.1 ,  97.  , ...,   0.  ,   1.  ,   2.  ],\n",
       "       [ 98.95,  75.05,  97.95, ...,   1.  ,   0.  ,   1.  ],\n",
       "       [ 98.  ,  74.1 ,  97.  , ...,   2.  ,   1.  ,   0.  ]])"
      ]
     },
     "execution_count": 10,
     "metadata": {},
     "output_type": "execute_result"
    }
   ],
   "source": []
  },
  {
   "cell_type": "code",
   "execution_count": 13,
   "metadata": {},
   "outputs": [],
   "source": [
    "m = Model()\n",
    "vars = {}\n",
    "n = shortest_dist.shape[0] #number of kingdoms\n",
    "#Add edges as variables\n",
    "for i in range(n):\n",
    "    for j in range(i+1):\n",
    "        vars[i,j] = m.addVar(obj=shortest_dist[i,j], vtype=GRB.BINARY, name='e'+str(i)+'_'+str(j))\n",
    "        vars[j,i] = vars[i,j]\n",
    "    m.update()"
   ]
  },
  {
   "cell_type": "code",
   "execution_count": 14,
   "metadata": {},
   "outputs": [
    {
     "name": "stdout",
     "output_type": "stream",
     "text": [
      "<gurobi.Model MIP instance Unnamed: 0 constrs, 11325 vars, Parameter changes: LogFile=gurobi.log, CSIdleTimeout=1800>\n"
     ]
    }
   ],
   "source": []
  },
  {
   "cell_type": "code",
   "execution_count": null,
   "metadata": {},
   "outputs": [],
   "source": []
  }
 ],
 "metadata": {
  "kernelspec": {
   "display_name": "Python 3",
   "language": "python",
   "name": "python3"
  },
  "language_info": {
   "codemirror_mode": {
    "name": "ipython",
    "version": 3
   },
   "file_extension": ".py",
   "mimetype": "text/x-python",
   "name": "python",
   "nbconvert_exporter": "python",
   "pygments_lexer": "ipython3",
   "version": "3.6.5"
  }
 },
 "nbformat": 4,
 "nbformat_minor": 2
}
