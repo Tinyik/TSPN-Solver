{
 "cells": [
  {
   "cell_type": "code",
   "execution_count": 6,
   "metadata": {
    "collapsed": true
   },
   "outputs": [],
   "source": [
    "import os\n",
    "import numpy as np\n",
    "import scipy.sparse.csgraph\n",
    "import networkx as nx"
   ]
  },
  {
   "cell_type": "code",
   "execution_count": 7,
   "metadata": {
    "collapsed": true
   },
   "outputs": [],
   "source": [
    "INPUT_DIR = './inputs'\n",
    "input0 = os.path.join(INPUT_DIR, '234.in')"
   ]
  },
  {
   "cell_type": "code",
   "execution_count": 8,
   "metadata": {
    "collapsed": true
   },
   "outputs": [],
   "source": [
    "def read_file(file):\n",
    "    with open(file, 'r') as f:\n",
    "        data = f.readlines()\n",
    "    data = [line.strip().split() for line in data]\n",
    "    return data\n",
    "\n",
    "def data_parser(input_data):\n",
    "    number_of_kingdoms = int(input_data[0][0])\n",
    "    list_of_kingdom_names = input_data[1]\n",
    "    starting_kingdom = input_data[2][0]\n",
    "    adjacency_matrix = [[entry if entry == 'x' else float(entry) for entry in row] for row in input_data[3:]]\n",
    "    return number_of_kingdoms, list_of_kingdom_names, starting_kingdom, adjacency_matrix"
   ]
  },
  {
   "cell_type": "code",
   "execution_count": 9,
   "metadata": {},
   "outputs": [],
   "source": [
    "def matrix(input_file):\n",
    "    adj = np.genfromtxt(input_file, dtype=float, skip_header=3)\n",
    "    size = len(adj)\n",
    "    for i in range(size):\n",
    "        for j in range(size):\n",
    "            if np.isnan(adj[i][j]):\n",
    "                adj[i][j] = 0\n",
    "    return adj\n",
    "\n",
    "def preprocess(input_file):\n",
    "    data = read_file(input_file)\n",
    "    number_of_kingdoms, list_of_kingdom_names, starting_kingdom, adjacency_matrix = data_parser(data)\n",
    "    adjacency_matrix = matrix(input_file)\n",
    "    return number_of_kingdoms, list_of_kingdom_names, starting_kingdom, adjacency_matrix\n",
    "\n",
    "number_of_kingdoms, list_of_kingdom_names, starting_kingdom, adjacency_matrix = preprocess(input0)"
   ]
  },
  {
   "cell_type": "code",
   "execution_count": 10,
   "metadata": {},
   "outputs": [],
   "source": [
    "g = matrix(input0)\n",
    "gnx =nx.from_numpy_matrix(g)\n",
    "paths = list(nx.all_pairs_shortest_path(gnx))\n",
    "recon = []\n",
    "for p in paths:\n",
    "    a = []\n",
    "    for i in range(number_of_kingdoms):\n",
    "        a.append(p[1][i])\n",
    "    recon.append(a)\n",
    "shortest_dist= scipy.sparse.csgraph.floyd_warshall(g)"
   ]
  },
  {
   "cell_type": "code",
   "execution_count": 11,
   "metadata": {},
   "outputs": [
    {
     "data": {
      "text/plain": [
       "array([[0., 0., 0., ..., 0., 0., 0.],\n",
       "       [0., 0., 0., ..., 0., 0., 0.],\n",
       "       [0., 0., 0., ..., 0., 0., 0.],\n",
       "       ...,\n",
       "       [0., 0., 0., ..., 0., 0., 0.],\n",
       "       [0., 0., 0., ..., 0., 0., 0.],\n",
       "       [0., 0., 0., ..., 0., 0., 0.]])"
      ]
     },
     "execution_count": 11,
     "metadata": {},
     "output_type": "execute_result"
    }
   ],
   "source": [
    "complete_g = np.zeros_like(g)\n",
    "for i in range(g.shape[0]):\n",
    "    for j in range(g.shape[1]):\n",
    "        if g[i,j] == np.inf:\n",
    "            complete_g[i,j] = shortest_dist[i,j]\n",
    "        else:\n",
    "            complete_g[i,j] = g[i,j]\n",
    "for kk in range(complete_g.shape[0]):\n",
    "    complete_g[kk, kk]=0 \n",
    "complete_g"
   ]
  },
  {
   "cell_type": "code",
   "execution_count": 12,
   "metadata": {},
   "outputs": [
    {
     "data": {
      "text/plain": [
       "array([[1, 0, 0, ..., 0, 0, 0],\n",
       "       [0, 1, 0, ..., 0, 0, 0],\n",
       "       [0, 0, 1, ..., 0, 0, 0],\n",
       "       ...,\n",
       "       [0, 0, 0, ..., 1, 0, 0],\n",
       "       [0, 0, 0, ..., 0, 1, 0],\n",
       "       [0, 0, 0, ..., 0, 0, 1]])"
      ]
     },
     "execution_count": 12,
     "metadata": {},
     "output_type": "execute_result"
    }
   ],
   "source": [
    "#Set Cover\n",
    "binarize = lambda x : int(x != 0)\n",
    "binarize = np.vectorize(binarize)\n",
    "binary = binarize(g)\n",
    "for i in range(number_of_kingdoms):\n",
    "    binary[i][i] = 1\n",
    "binary"
   ]
  },
  {
   "cell_type": "code",
   "execution_count": 13,
   "metadata": {
    "collapsed": true
   },
   "outputs": [],
   "source": [
    "cost = np.diag(g)\n",
    "cost = cost/ np.median(cost)"
   ]
  },
  {
   "cell_type": "code",
   "execution_count": 14,
   "metadata": {},
   "outputs": [
    {
     "name": "stdout",
     "output_type": "stream",
     "text": [
      "This Best solution: UB=18.59832635983264, LB=18.598326359832633, UB1=18.59832635983264, LB1=18.598326359832633\n",
      "Current Best Solution: UB=18.59832635983264, LB=18.598326359832633, change=3.8204660032995254e-14% @ niters=0\n",
      "Current Best Solution: UB=18.59832635983264, LB=18.598326359832633, change=3.8204660032995254e-14% @ niters=1\n",
      "Final Best solution: 18.59832635983264\n",
      "Took 0.011 minutes to reach current solution.\n"
     ]
    },
    {
     "data": {
      "text/plain": [
       "array([False, False, False, False, False,  True, False, False,  True,\n",
       "       False, False,  True, False,  True, False, False, False, False,\n",
       "        True, False, False, False,  True, False, False,  True, False,\n",
       "       False, False, False, False, False, False,  True,  True,  True,\n",
       "        True,  True, False, False, False, False,  True, False,  True,\n",
       "        True,  True, False,  True,  True, False, False, False,  True,\n",
       "        True, False, False,  True, False, False, False, False,  True,\n",
       "        True, False, False,  True, False, False, False, False, False,\n",
       "       False,  True, False, False, False, False, False, False, False,\n",
       "       False, False,  True,  True,  True,  True, False,  True,  True,\n",
       "        True, False,  True,  True,  True,  True, False,  True,  True,\n",
       "        True])"
      ]
     },
     "execution_count": 14,
     "metadata": {},
     "output_type": "execute_result"
    }
   ],
   "source": [
    "from SetCoverPy import *\n",
    "sc = setcover.SetCover(binary, cost)\n",
    "solution, time_used = sc.SolveSCP()\n",
    "sc.s"
   ]
  },
  {
   "cell_type": "code",
   "execution_count": 15,
   "metadata": {
    "collapsed": true
   },
   "outputs": [],
   "source": [
    "# from ortools.constraint_solver import pywrapcp\n",
    "# from ortools.constraint_solver import routing_enums_pb2\n",
    "\n",
    "# class CreateDistanceCallback(object):\n",
    "#     \"\"\"Create callback to calculate distances between points.\"\"\"\n",
    "#     def __init__(self, adjacency_matrix):\n",
    "#         \"\"\"Array of distances between points.\"\"\"\n",
    "\n",
    "#         self.matrix = adjacency_matrix\n",
    "\n",
    "#     def Distance(self, from_node, to_node):\n",
    "#         return int(self.matrix[from_node][to_node])\n",
    "\n",
    "# def solve(list_of_kingdom_names, starting_kingdom, adjacency_matrix, params=[]):\n",
    "# #     city_names = [\"New York\", \"Los Angeles\", \"Chicago\", \"Minneapolis\", \"Denver\", \"Dallas\", \"Seattle\",\n",
    "# #                 \"Boston\", \"San Francisco\", \"St. Louis\", \"Houston\", \"Phoenix\", \"Salt Lake City\"]\n",
    "#     tsp_size = len(list_of_kingdom_names)\n",
    "#     num_routes = 1    # The number of routes, which is 1 in the TSP.\n",
    "#     # Nodes are indexed from 0 to tsp_size - 1. The depot is the starting node of the route.\n",
    "#     depot = list_of_kingdom_names.index(starting_kingdom)\n",
    "\n",
    "#     # Create routing model\n",
    "#     if tsp_size > 0:\n",
    "#         routing = pywrapcp.RoutingModel(tsp_size, num_routes, depot)\n",
    "#         search_parameters = pywrapcp.RoutingModel.DefaultModelParameters()\n",
    "\n",
    "#         # Create the distance callback, which takes two arguments (the from and to node indices)\n",
    "#         # and returns the distance between these nodes.\n",
    "#         dist_between_nodes = CreateDistanceCallback(adjacency_matrix)\n",
    "#         dist_callback = dist_between_nodes.Distance\n",
    "#         routing.SetArcCostEvaluatorOfAllVehicles(dist_callback)\n",
    "#         # Solve, returns a solution if any.\n",
    "#         assignment = routing.SolveWithParameters(search_parameters)\n",
    "#         if assignment:\n",
    "#             # Solution cost.\n",
    "#             print(\"Total distance: \" + str(assignment.ObjectiveValue()) + \" miles\\n\")\n",
    "#             # Inspect solution.\n",
    "#             # Only one route here; otherwise iterate from 0 to routing.vehicles() - 1\n",
    "#             route_number = 0\n",
    "#             index = routing.Start(route_number) # Index of the variable for the starting node.\n",
    "#             route = ''\n",
    "#             while not routing.IsEnd(index):\n",
    "#                 # Convert variable indices to node indices in the displayed route.\n",
    "#                 route += str(city_names[routing.IndexToNode(index)]) + ' -> '\n",
    "#                 index = assignment.Value(routing.NextVar(index))\n",
    "#             route += str(city_names[routing.IndexToNode(index)])\n",
    "#             print(\"Route:\\n\\n\" + route)\n",
    "#         else:\n",
    "#             print('No solution found.')\n",
    "#     else:\n",
    "#         print('Specify an instance greater than 0.')"
   ]
  },
  {
   "cell_type": "code",
   "execution_count": 16,
   "metadata": {},
   "outputs": [
    {
     "name": "stdout",
     "output_type": "stream",
     "text": [
      "['5', '8', '11', '13', '18', '22', '25', '33', '34', '35', '36', '37', '42', '44', '45', '46', '48', '49', '53', '54', '57', '62', '63', '66', '73', '83', '84', '85', '86', '88', '89', '90', '92', '93', '94', '95', '97', '98', '99']\n",
      "[5, 8, 11, 13, 18, 22, 25, 33, 34, 35, 36, 37, 42, 44, 45, 46, 48, 49, 53, 54, 57, 62, 63, 66, 73, 83, 84, 85, 86, 88, 89, 90, 92, 93, 94, 95, 97, 98, 99]\n"
     ]
    }
   ],
   "source": [
    "contries_to_visit = []\n",
    "contries_idx = []\n",
    "for i,c in enumerate(list_of_kingdom_names):\n",
    "    if sc.s[i]:\n",
    "        contries_to_visit.append(c)\n",
    "        contries_idx.append(i)\n",
    "print(contries_to_visit)\n",
    "print(contries_idx)"
   ]
  },
  {
   "cell_type": "code",
   "execution_count": 17,
   "metadata": {
    "collapsed": true
   },
   "outputs": [],
   "source": [
    "truncated_g = shortest_dist[contries_idx][:, contries_idx]"
   ]
  },
  {
   "cell_type": "code",
   "execution_count": 29,
   "metadata": {},
   "outputs": [
    {
     "name": "stdout",
     "output_type": "stream",
     "text": [
      "19\n"
     ]
    }
   ],
   "source": [
    "from pytsp import atsp_tsp, run, dumps_matrix\n",
    "\n",
    "matrix_sym = atsp_tsp(truncated_g, strategy=\"avg\")\n",
    "outf = \"/tmp/myroute.tsp\"\n",
    "with open(outf, 'w') as dest:\n",
    "    dest.write(dumps_matrix(matrix_sym, name=\"My Route\"))\n",
    "tour = run(outf, start=list_of_kingdom_names.index(starting_kingdom), solver=\"concorde\")\n",
    "complete_visits = [contries_idx[i] for i in tour['tour']]\n",
    "complete_visits += [complete_visits[0]]"
   ]
  },
  {
   "cell_type": "code",
   "execution_count": 26,
   "metadata": {},
   "outputs": [
    {
     "name": "stdout",
     "output_type": "stream",
     "text": [
      "[54, 76, 55, 44, 55, 63, 43, 53, 58, 77, 96, 99, 96, 98, 96, 97, 96, 77, 17, 23, 35, 31, 49, 62, 49, 72, 73, 87, 89, 87, 90, 87, 88, 87, 73, 80, 5, 39, 37, 41, 48, 78, 46, 78, 48, 41, 34, 36, 67, 25, 67, 65, 13, 82, 86, 82, 85, 82, 83, 82, 84, 82, 13, 9, 0, 18, 8, 18, 32, 57, 71, 11, 52, 42, 52, 59, 66, 91, 95, 91, 92, 91, 93, 91, 94, 91, 66, 29, 33, 50, 22, 50, 51, 54]\n"
     ]
    }
   ],
   "source": [
    "from functools import reduce\n",
    "p = [complete_visits[0]] + reduce(lambda x,y: x+y, [recon[complete_visits[i]][complete_visits[i+1]][1:] for i in range(1, len(complete_visits) -1)])\n",
    "print(p)"
   ]
  },
  {
   "cell_type": "code",
   "execution_count": 27,
   "metadata": {},
   "outputs": [
    {
     "name": "stdout",
     "output_type": "stream",
     "text": [
      "54 76 55 44 55 63 43 53 58 77 96 99 96 98 96 97 96 77 17 23 35 31 49 62 49 72 73 87 89 87 90 87 88 87 73 80 5 39 37 41 48 78 46 78 48 41 34 36 67 25 67 65 13 82 86 82 85 82 83 82 84 82 13 9 0 18 8 18 32 57 71 11 52 42 52 59 66 91 95 91 92 91 93 91 94 91 66 29 33 50 22 50 51 54\n"
     ]
    }
   ],
   "source": [
    "kindoms_visited = [list_of_kingdom_names[j] for j in p]\n",
    "kv = reduce(lambda x,y: x+' '+y, kindoms_visited)\n",
    "print(kv)"
   ]
  },
  {
   "cell_type": "code",
   "execution_count": 28,
   "metadata": {},
   "outputs": [
    {
     "name": "stdout",
     "output_type": "stream",
     "text": [
      "5 8 11 13 18 22 25 33 34 35 36 37 42 44 45 46 48 49 53 54 57 62 63 66 73 83 84 85 86 88 89 90 92 93 94 95 97 98 99\n"
     ]
    }
   ],
   "source": [
    "kindoms_conquered = contries_to_visit\n",
    "kc = reduce(lambda x,y: x+' '+y, kindoms_conquered)\n",
    "print(kc)"
   ]
  },
  {
   "cell_type": "code",
   "execution_count": null,
   "metadata": {
    "collapsed": true
   },
   "outputs": [],
   "source": [
    "f = open('0.out', 'w')\n",
    "f.write(kv)\n",
    "f.write(kc)"
   ]
  },
  {
   "cell_type": "code",
   "execution_count": 92,
   "metadata": {
    "collapsed": true
   },
   "outputs": [],
   "source": [
    "from SetCoverPy import *"
   ]
  },
  {
   "cell_type": "code",
   "execution_count": null,
   "metadata": {
    "collapsed": true
   },
   "outputs": [],
   "source": []
  }
 ],
 "metadata": {
  "kernelspec": {
   "display_name": "Python 3",
   "language": "python",
   "name": "python3"
  },
  "language_info": {
   "codemirror_mode": {
    "name": "ipython",
    "version": 3
   },
   "file_extension": ".py",
   "mimetype": "text/x-python",
   "name": "python",
   "nbconvert_exporter": "python",
   "pygments_lexer": "ipython3",
   "version": "3.6.5"
  }
 },
 "nbformat": 4,
 "nbformat_minor": 2
}
